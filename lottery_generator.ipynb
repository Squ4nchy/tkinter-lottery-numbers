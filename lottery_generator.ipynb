{
 "cells": [
  {
   "cell_type": "code",
   "execution_count": 1,
   "id": "d43b8f3f",
   "metadata": {},
   "outputs": [],
   "source": [
    "%config Completer.use_jedi = False"
   ]
  },
  {
   "cell_type": "code",
   "execution_count": 2,
   "id": "b781ddff",
   "metadata": {},
   "outputs": [],
   "source": [
    "import tkinter as tk\n",
    "\n",
    "import numpy as np"
   ]
  },
  {
   "cell_type": "code",
   "execution_count": 3,
   "id": "b3686cb5",
   "metadata": {},
   "outputs": [],
   "source": [
    "# Start a random number generator using standard bit generator.\n",
    "rng = np.random.default_rng()\n",
    "\n",
    "# Choose a random array of 6 numbers (default), 0-50 exclusively,\n",
    "# without replacing the sample. Sort the array and return it.\n",
    "def get_nums(n=6, rng=rng):\n",
    "    rand_nums = rng.choice(range(1, 50), n, False)\n",
    "    ordered_num = np.sort(rand_nums)\n",
    "    \n",
    "    return ordered_num"
   ]
  },
  {
   "cell_type": "code",
   "execution_count": 4,
   "id": "c8f351db",
   "metadata": {},
   "outputs": [],
   "source": [
    "# Use the generated numbers and assign a colour based on the \n",
    "# dictionary of colours. Return a list of lists.\n",
    "def get_num_colour():\n",
    "    numbers = get_nums()\n",
    "    \n",
    "    colour_list = []\n",
    "    \n",
    "    colour_limits = {\n",
    "        10: 'grey',\n",
    "        20: 'blue',\n",
    "        30: '#AE388B',\n",
    "        40: 'green',\n",
    "        50: 'yellow'\n",
    "    }\n",
    "    \n",
    "    for num in numbers:\n",
    "        for limit in colour_limits.keys():\n",
    "            if num < limit:\n",
    "                colour_list.append([num, colour_limits[limit]])\n",
    "                break\n",
    "    return colour_list"
   ]
  },
  {
   "cell_type": "code",
   "execution_count": 5,
   "id": "903c919b",
   "metadata": {},
   "outputs": [],
   "source": [
    "# Function to be called by tkinter, on button press, to display\n",
    "# selected numbers with their assigned colours.\n",
    "def show_numbers():\n",
    "    for widget in nums_frame.winfo_children():\n",
    "        widget.destroy()\n",
    "        \n",
    "    colour_list = get_num_colour()\n",
    "    \n",
    "    for x in colour_list:\n",
    "        label = tk.Label(nums_frame, text=f'{x[0]}', fg=f'{x[1]}', bg='black', font=('courier', 35))\n",
    "        label.pack(side='left', ipadx=20)"
   ]
  },
  {
   "cell_type": "code",
   "execution_count": 6,
   "id": "43783ead",
   "metadata": {},
   "outputs": [],
   "source": [
    "# Create instance of tkinter \n",
    "root = tk.Tk()\n",
    "\n",
    "# Create a frame to place the title in.\n",
    "title_frame = tk.Frame(root)\n",
    "title_frame.pack()\n",
    "\n",
    "# Add title to the title_frame.\n",
    "title = tk.Label(title_frame, text='Your winning numbers are!', font=('courier', 35))\n",
    "title.pack()\n",
    "\n",
    "# Add a frame to display the genererated lottery numbers.\n",
    "nums_frame = tk.Frame(root, bg='black')\n",
    "nums_frame.pack()"
   ]
  },
  {
   "cell_type": "code",
   "execution_count": 7,
   "id": "151ea174",
   "metadata": {},
   "outputs": [],
   "source": [
    "# Create button to call show_numbers function.\n",
    "show_num = tk.Button(title_frame, text='Show Lottery Numbers', padx=1, pady=5, fg='white', bg='blue', command=show_numbers)\n",
    "show_num.pack()"
   ]
  },
  {
   "cell_type": "code",
   "execution_count": 8,
   "id": "dfbb8ac9",
   "metadata": {},
   "outputs": [],
   "source": [
    "# Create button that exits the tkinter window.\n",
    "exit = tk.Button(title_frame, text='Exit', padx=1, pady=5, fg='white', bg='blue', command=root.destroy)\n",
    "exit.pack(ipadx=50)"
   ]
  },
  {
   "cell_type": "code",
   "execution_count": 9,
   "id": "fbbf30f3",
   "metadata": {},
   "outputs": [],
   "source": [
    "root.mainloop()"
   ]
  }
 ],
 "metadata": {
  "jupytext": {
   "formats": "ipynb,py:nomarker"
  },
  "kernelspec": {
   "display_name": "Python 3",
   "language": "python",
   "name": "python3"
  },
  "language_info": {
   "codemirror_mode": {
    "name": "ipython",
    "version": 3
   },
   "file_extension": ".py",
   "mimetype": "text/x-python",
   "name": "python",
   "nbconvert_exporter": "python",
   "pygments_lexer": "ipython3",
   "version": "3.7.9"
  }
 },
 "nbformat": 4,
 "nbformat_minor": 5
}
